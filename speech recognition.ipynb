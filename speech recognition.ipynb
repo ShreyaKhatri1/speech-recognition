{
 "cells": [
  {
   "cell_type": "code",
   "execution_count": 1,
   "id": "2384c2bb",
   "metadata": {},
   "outputs": [
    {
     "name": "stdout",
     "output_type": "stream",
     "text": [
      "Requirement already satisfied: SpeechRecognition in c:\\users\\kshitiz\\anaconda3\\lib\\site-packages (3.8.1)Note: you may need to restart the kernel to use updated packages.\n",
      "\n"
     ]
    }
   ],
   "source": [
    "pip install SpeechRecognition"
   ]
  },
  {
   "cell_type": "code",
   "execution_count": 2,
   "id": "f6ec4e6b",
   "metadata": {},
   "outputs": [],
   "source": [
    "import speech_recognition as sr"
   ]
  },
  {
   "cell_type": "code",
   "execution_count": 3,
   "id": "4731b81e",
   "metadata": {},
   "outputs": [
    {
     "name": "stdout",
     "output_type": "stream",
     "text": [
      "Requirement already satisfied: pyttsx3 in c:\\users\\kshitiz\\anaconda3\\lib\\site-packages (2.90)\n",
      "Requirement already satisfied: pywin32 in c:\\users\\kshitiz\\anaconda3\\lib\\site-packages (from pyttsx3) (228)\n",
      "Requirement already satisfied: pypiwin32 in c:\\users\\kshitiz\\anaconda3\\lib\\site-packages (from pyttsx3) (223)\n",
      "Requirement already satisfied: comtypes in c:\\users\\kshitiz\\anaconda3\\lib\\site-packages (from pyttsx3) (1.1.10)\n",
      "Note: you may need to restart the kernel to use updated packages.\n"
     ]
    }
   ],
   "source": [
    "pip install pyttsx3"
   ]
  },
  {
   "cell_type": "code",
   "execution_count": 4,
   "id": "bfa6a357",
   "metadata": {},
   "outputs": [
    {
     "name": "stdout",
     "output_type": "stream",
     "text": [
      "Requirement already satisfied: pywhatkit in c:\\users\\kshitiz\\anaconda3\\lib\\site-packages (5.3)Note: you may need to restart the kernel to use updated packages.\n",
      "\n",
      "Requirement already satisfied: requests in c:\\users\\kshitiz\\anaconda3\\lib\\site-packages (from pywhatkit) (2.26.0)\n",
      "Requirement already satisfied: Pillow in c:\\users\\kshitiz\\anaconda3\\lib\\site-packages (from pywhatkit) (8.4.0)\n",
      "Requirement already satisfied: pyautogui in c:\\users\\kshitiz\\anaconda3\\lib\\site-packages (from pywhatkit) (0.9.53)\n",
      "Requirement already satisfied: wikipedia in c:\\users\\kshitiz\\anaconda3\\lib\\site-packages (from pywhatkit) (1.4.0)\n",
      "Requirement already satisfied: mouseinfo in c:\\users\\kshitiz\\anaconda3\\lib\\site-packages (from pyautogui->pywhatkit) (0.1.3)\n",
      "Requirement already satisfied: PyTweening>=1.0.1 in c:\\users\\kshitiz\\anaconda3\\lib\\site-packages (from pyautogui->pywhatkit) (1.0.4)\n",
      "Requirement already satisfied: pyscreeze>=0.1.21 in c:\\users\\kshitiz\\anaconda3\\lib\\site-packages (from pyautogui->pywhatkit) (0.1.28)\n",
      "Requirement already satisfied: pygetwindow>=0.0.5 in c:\\users\\kshitiz\\anaconda3\\lib\\site-packages (from pyautogui->pywhatkit) (0.0.9)\n",
      "Requirement already satisfied: pymsgbox in c:\\users\\kshitiz\\anaconda3\\lib\\site-packages (from pyautogui->pywhatkit) (1.0.9)\n",
      "Requirement already satisfied: pyrect in c:\\users\\kshitiz\\anaconda3\\lib\\site-packages (from pygetwindow>=0.0.5->pyautogui->pywhatkit) (0.1.4)\n",
      "Requirement already satisfied: pyperclip in c:\\users\\kshitiz\\anaconda3\\lib\\site-packages (from mouseinfo->pyautogui->pywhatkit) (1.8.2)\n",
      "Requirement already satisfied: charset-normalizer~=2.0.0 in c:\\users\\kshitiz\\anaconda3\\lib\\site-packages (from requests->pywhatkit) (2.0.4)\n",
      "Requirement already satisfied: idna<4,>=2.5 in c:\\users\\kshitiz\\anaconda3\\lib\\site-packages (from requests->pywhatkit) (3.2)\n",
      "Requirement already satisfied: certifi>=2017.4.17 in c:\\users\\kshitiz\\anaconda3\\lib\\site-packages (from requests->pywhatkit) (2021.10.8)\n",
      "Requirement already satisfied: urllib3<1.27,>=1.21.1 in c:\\users\\kshitiz\\anaconda3\\lib\\site-packages (from requests->pywhatkit) (1.26.7)\n",
      "Requirement already satisfied: beautifulsoup4 in c:\\users\\kshitiz\\anaconda3\\lib\\site-packages (from wikipedia->pywhatkit) (4.10.0)\n",
      "Requirement already satisfied: soupsieve>1.2 in c:\\users\\kshitiz\\anaconda3\\lib\\site-packages (from beautifulsoup4->wikipedia->pywhatkit) (2.2.1)\n"
     ]
    }
   ],
   "source": [
    "pip install pywhatkit"
   ]
  },
  {
   "cell_type": "code",
   "execution_count": 5,
   "id": "837e477e",
   "metadata": {},
   "outputs": [
    {
     "name": "stdout",
     "output_type": "stream",
     "text": [
      "Requirement already satisfied: datetime in c:\\users\\kshitiz\\anaconda3\\lib\\site-packages (4.4)\n",
      "Requirement already satisfied: pytz in c:\\users\\kshitiz\\anaconda3\\lib\\site-packages (from datetime) (2021.3)\n",
      "Requirement already satisfied: zope.interface in c:\\users\\kshitiz\\anaconda3\\lib\\site-packages (from datetime) (5.4.0)\n",
      "Requirement already satisfied: setuptools in c:\\users\\kshitiz\\anaconda3\\lib\\site-packages (from zope.interface->datetime) (58.0.4)\n",
      "Note: you may need to restart the kernel to use updated packages.\n"
     ]
    }
   ],
   "source": [
    "pip install datetime"
   ]
  },
  {
   "cell_type": "code",
   "execution_count": 6,
   "id": "8cef10a9",
   "metadata": {},
   "outputs": [
    {
     "name": "stdout",
     "output_type": "stream",
     "text": [
      "Requirement already satisfied: wikipedia in c:\\users\\kshitiz\\anaconda3\\lib\\site-packages (1.4.0)\n",
      "Requirement already satisfied: requests<3.0.0,>=2.0.0 in c:\\users\\kshitiz\\anaconda3\\lib\\site-packages (from wikipedia) (2.26.0)\n",
      "Requirement already satisfied: beautifulsoup4 in c:\\users\\kshitiz\\anaconda3\\lib\\site-packages (from wikipedia) (4.10.0)\n",
      "Requirement already satisfied: charset-normalizer~=2.0.0 in c:\\users\\kshitiz\\anaconda3\\lib\\site-packages (from requests<3.0.0,>=2.0.0->wikipedia) (2.0.4)\n",
      "Requirement already satisfied: certifi>=2017.4.17 in c:\\users\\kshitiz\\anaconda3\\lib\\site-packages (from requests<3.0.0,>=2.0.0->wikipedia) (2021.10.8)\n",
      "Requirement already satisfied: idna<4,>=2.5 in c:\\users\\kshitiz\\anaconda3\\lib\\site-packages (from requests<3.0.0,>=2.0.0->wikipedia) (3.2)\n",
      "Requirement already satisfied: urllib3<1.27,>=1.21.1 in c:\\users\\kshitiz\\anaconda3\\lib\\site-packages (from requests<3.0.0,>=2.0.0->wikipedia) (1.26.7)\n",
      "Requirement already satisfied: soupsieve>1.2 in c:\\users\\kshitiz\\anaconda3\\lib\\site-packages (from beautifulsoup4->wikipedia) (2.2.1)\n",
      "Note: you may need to restart the kernel to use updated packages.\n"
     ]
    }
   ],
   "source": [
    "pip install wikipedia"
   ]
  },
  {
   "cell_type": "code",
   "execution_count": 7,
   "id": "db26e8be",
   "metadata": {},
   "outputs": [
    {
     "name": "stdout",
     "output_type": "stream",
     "text": [
      "Requirement already satisfied: pyjokes in c:\\users\\kshitiz\\anaconda3\\lib\\site-packages (0.6.0)\n",
      "Note: you may need to restart the kernel to use updated packages.\n"
     ]
    }
   ],
   "source": [
    "pip install pyjokes"
   ]
  },
  {
   "cell_type": "code",
   "execution_count": 8,
   "id": "fd6b216b",
   "metadata": {},
   "outputs": [],
   "source": [
    "import pyttsx3"
   ]
  },
  {
   "cell_type": "code",
   "execution_count": 9,
   "id": "11e9ffca",
   "metadata": {},
   "outputs": [],
   "source": [
    "import pywhatkit"
   ]
  },
  {
   "cell_type": "code",
   "execution_count": 10,
   "id": "fc313cad",
   "metadata": {},
   "outputs": [],
   "source": [
    "import datetime"
   ]
  },
  {
   "cell_type": "code",
   "execution_count": 11,
   "id": "6241e35b",
   "metadata": {},
   "outputs": [],
   "source": [
    "import wikipedia"
   ]
  },
  {
   "cell_type": "code",
   "execution_count": 12,
   "id": "1f1e14f8",
   "metadata": {},
   "outputs": [],
   "source": [
    "import pyjokes"
   ]
  },
  {
   "cell_type": "code",
   "execution_count": 13,
   "id": "53975584",
   "metadata": {},
   "outputs": [],
   "source": [
    "import sys"
   ]
  },
  {
   "cell_type": "code",
   "execution_count": 14,
   "id": "724378a4",
   "metadata": {},
   "outputs": [],
   "source": [
    "import webbrowser"
   ]
  },
  {
   "cell_type": "code",
   "execution_count": 15,
   "id": "1de90dd5",
   "metadata": {},
   "outputs": [],
   "source": [
    "from datetime import date"
   ]
  },
  {
   "cell_type": "code",
   "execution_count": 16,
   "id": "20f62cc3",
   "metadata": {},
   "outputs": [
    {
     "name": "stdout",
     "output_type": "stream",
     "text": [
      "Requirement already satisfied: pipwin in c:\\users\\kshitiz\\anaconda3\\lib\\site-packages (0.5.1)Note: you may need to restart the kernel to use updated packages.\n",
      "Requirement already satisfied: six in c:\\users\\kshitiz\\anaconda3\\lib\\site-packages (from pipwin) (1.16.0)\n",
      "Requirement already satisfied: packaging in c:\\users\\kshitiz\\anaconda3\\lib\\site-packages (from pipwin) (21.0)\n",
      "Requirement already satisfied: beautifulsoup4>=4.9.0 in c:\\users\\kshitiz\\anaconda3\\lib\\site-packages (from pipwin) (4.10.0)\n",
      "Requirement already satisfied: pyprind in c:\\users\\kshitiz\\anaconda3\\lib\\site-packages (from pipwin) (2.11.3)\n",
      "Requirement already satisfied: requests in c:\\users\\kshitiz\\anaconda3\\lib\\site-packages (from pipwin) (2.26.0)\n",
      "Requirement already satisfied: docopt in c:\\users\\kshitiz\\anaconda3\\lib\\site-packages (from pipwin) (0.6.2)\n",
      "Requirement already satisfied: js2py in c:\\users\\kshitiz\\anaconda3\\lib\\site-packages (from pipwin) (0.71)\n",
      "Requirement already satisfied: pySmartDL>=1.3.1 in c:\\users\\kshitiz\\anaconda3\\lib\\site-packages (from pipwin) (1.3.4)\n",
      "Requirement already satisfied: soupsieve>1.2 in c:\\users\\kshitiz\\anaconda3\\lib\\site-packages (from beautifulsoup4>=4.9.0->pipwin) (2.2.1)\n",
      "Requirement already satisfied: pyjsparser>=2.5.1 in c:\\users\\kshitiz\\anaconda3\\lib\\site-packages (from js2py->pipwin) (2.7.1)\n",
      "Requirement already satisfied: tzlocal>=1.2 in c:\\users\\kshitiz\\anaconda3\\lib\\site-packages (from js2py->pipwin) (4.1)\n",
      "Requirement already satisfied: tzdata in c:\\users\\kshitiz\\anaconda3\\lib\\site-packages (from tzlocal>=1.2->js2py->pipwin) (2021.5)\n",
      "Requirement already satisfied: pytz-deprecation-shim in c:\\users\\kshitiz\\anaconda3\\lib\\site-packages (from tzlocal>=1.2->js2py->pipwin) (0.1.0.post0)\n",
      "Requirement already satisfied: pyparsing>=2.0.2 in c:\\users\\kshitiz\\anaconda3\\lib\\site-packages (from packaging->pipwin) (3.0.4)\n",
      "Requirement already satisfied: urllib3<1.27,>=1.21.1 in c:\\users\\kshitiz\\anaconda3\\lib\\site-packages (from requests->pipwin) (1.26.7)\n",
      "Requirement already satisfied: certifi>=2017.4.17 in c:\\users\\kshitiz\\anaconda3\\lib\\site-packages (from requests->pipwin) (2021.10.8)\n",
      "Requirement already satisfied: idna<4,>=2.5 in c:\\users\\kshitiz\\anaconda3\\lib\\site-packages (from requests->pipwin) (3.2)\n",
      "Requirement already satisfied: charset-normalizer~=2.0.0 in c:\\users\\kshitiz\\anaconda3\\lib\\site-packages (from requests->pipwin) (2.0.4)\n",
      "\n"
     ]
    }
   ],
   "source": [
    "pip install pipwin"
   ]
  },
  {
   "cell_type": "code",
   "execution_count": null,
   "id": "a666b8c4",
   "metadata": {},
   "outputs": [],
   "source": [
    "conda install -c anaconda pyaudio"
   ]
  },
  {
   "cell_type": "code",
   "execution_count": null,
   "id": "9a259dca",
   "metadata": {},
   "outputs": [],
   "source": [
    "engine=pyttsx3.init()\n",
    "engine.setProperty(\"rate\", 150)\n",
    "voices = engine.getProperty(\"voices\")\n",
    "engine.setProperty('voice', voices [1].id)\n",
    "recognizer=sr.Recognizer()"
   ]
  },
  {
   "cell_type": "code",
   "execution_count": null,
   "id": "fd56d9d6",
   "metadata": {},
   "outputs": [],
   "source": [
    "def engine_talk(text):\n",
    "    engine.say(text)\n",
    "    engine.runAndWait()\n",
    "def run_alexa():\n",
    "    with sr.Microphone() as source:\n",
    "        recognizer.adjust_for_ambient_noise(source,duration=1)\n",
    "        print('\\n')\n",
    "        print(\"Start Speaking!!\")\n",
    "        engine_talk('listening.. ')\n",
    "        recordedaudio=recognizer.listen(source)\n",
    "    try:\n",
    "        command=recognizer.recognize_google(recordedaudio,language='en-in')\n",
    "        command = command.lower() \n",
    "        if 'alexa' in command :\n",
    "            command = command.replace('alexa', '')\n",
    "            print('you said'+command)\n",
    "        else :\n",
    "            print('you said : '+command)\n",
    "        if 'hello' in command :\n",
    "            print('hello how can i helpp you ??')\n",
    "            engine_talk('hello, how can i help you ??')\n",
    "        elif 'who are you' in command :\n",
    "            print('I am mini alexa a k a your virtual assistant master')\n",
    "            engine_talk('I am mini alexa a k a your virtual assistant master. how can i help you ??')\n",
    "        elif 'can you do' in command :\n",
    "            print('''i can play songs on youtube , tell you a joke, search on wikipedia, tell date and time,find your location, locate area on map,\n",
    "            open different websites like instagram, youtube,gmail, git hub, stack overflow and searches on google.How may i help you ??''')\n",
    "            engine_talk('''i can play songs on youtube , tell you a joke, search on wikipedia, tell date and time,find your location, locate area on map,\n",
    "            open different websites like insta gram, youtube,gmail, git hub, stack overflow and searches on google. How may i help you ??''')\n",
    "        elif 'play' in command:\n",
    "            song = command.replace('play', '')\n",
    "            print('Playing' +song)\n",
    "            engine_talk('Playing' +song)\n",
    "            pywhatkit.playonyt(song)\n",
    "        elif 'date and time' in command :\n",
    "            today = date.today()\n",
    "            time = datetime.datetime.now().strftime('%I:%M %p')\n",
    "            # Textual month, day and year\n",
    "            d2 = today.strftime(\"%B %d, %Y\")\n",
    "            print(\"Today's Date is \", d2, 'Current time is', time)\n",
    "            engine_talk('Today is : '+ d2)\n",
    "            engine_talk('and current time is '+ time)\n",
    "        elif 'time and date' in command :\n",
    "            today = date.today()\n",
    "            time = datetime.datetime.now().strftime('%I:%M %p')\n",
    "            # Textual month, day and year\n",
    "            d2 = today.strftime(\"%B %d, %Y\")\n",
    "            print(\"Today's Date is \", d2, 'Current time is', time)\n",
    "            engine_talk( 'Current time is '+ time)\n",
    "            engine_talk('and Today is : '+ d2)\n",
    "        elif 'time' in command:\n",
    "            time = datetime.datetime.now().strftime('%I:%M %p')\n",
    "            print('The current time is' +time)\n",
    "            engine_talk('The current time is')\n",
    "            engine_talk(time)\n",
    "        elif 'date' in command:\n",
    "            today = date.today()\n",
    "            print(\"Today's date:\", today)\n",
    "            # Textual month, day and year\n",
    "            d2 = today.strftime(\"%B %d, %Y\")\n",
    "            print(\"Today's Date is \", d2)\n",
    "            engine_talk('The todays date is')\n",
    "            engine_talk(d2)\n",
    "        elif 'tell me about' in command:\n",
    "            name = command.replace('tell me about' , '')\n",
    "            info = wikipedia.summary(name, 1)\n",
    "            print(info)\n",
    "            engine_talk(info)\n",
    "        elif 'wikipedia' in command:\n",
    "            name = command.replace('wikipedia' , '')\n",
    "            info = wikipedia.summary(name, 1)\n",
    "            print(info)\n",
    "            engine_talk(info)\n",
    "        elif 'what is' in command:\n",
    "            name = command.replace('what is ' , '')\n",
    "            info = wikipedia.summary(name, 1)\n",
    "            print(info)\n",
    "            engine_talk(info)\n",
    "        elif 'who is ' in command:\n",
    "            name = command.replace('who is' , '')\n",
    "            info = wikipedia.summary(name, 1)\n",
    "            print(info)\n",
    "            engine_talk(info)\n",
    "        elif 'what is ' in command :\n",
    "            search = 'https://www.google.com/search?q='+command\n",
    "            print(' Here is what i found on the internet..')\n",
    "            engine_talk('searching... Here is what i found on the internet..')\n",
    "            webbrowser.open(search)\n",
    "        elif 'joke' in command:\n",
    "            _joke = pyjokes.get_joke()\n",
    "            print(_joke)\n",
    "            engine_talk(_joke)\n",
    "        elif 'search' in command :\n",
    "            search = 'https://www.google.com/search?q='+command\n",
    "            engine_talk('searching... ')\n",
    "            webbrowser.open(search)\n",
    "        elif \"my location\" in command:\n",
    "            url = \"https://www.google.com/maps/search/Where+am+I+?/\"\n",
    "            webbrowser.get().open(url)\n",
    "            engine_talk(\"You must be somewhere near here, as per Google maps\")\n",
    "        elif 'locate ' in command :\n",
    "            engine_talk('locating ...')\n",
    "            loc = command.replace('locate', '')\n",
    "        if 'on map' in loc :\n",
    "            loc= loc.replace('on map',' ')\n",
    "            url = 'https://google.nl/maps/place/'+loc+'/&amp;'\n",
    "            webbrowser.get().open(url)\n",
    "            print('Here is the location of '+loc)\n",
    "            engine_talk('Here is the location of '+loc)\n",
    "        elif 'on map' in command :\n",
    "            engine_talk('locating ...')\n",
    "            loc = command.split(\" \")\n",
    "            print(loc[1])\n",
    "            url = 'https://google.nl/maps/place/'+loc[1] +'/&amp;'\n",
    "            webbrowser.get().open(url)\n",
    "            print('Here is the location of '+loc[1])\n",
    "            engine_talk('Here is the location of '+loc[1])\n",
    "        elif 'location of' in command :\n",
    "            engine_talk('locating ...')\n",
    "            loc = command.replace('find location of', '')\n",
    "            url = 'https://google.nl/maps/place/'+loc+'/&amp;'\n",
    "            webbrowser.get().open(url)\n",
    "            print('Here is the location of '+loc)\n",
    "            engine_talk('Here is the location of '+loc)\n",
    "        elif 'where is ' in command :\n",
    "            engine_talk('locating ...')\n",
    "            loc = command.replace('where is', '')\n",
    "            url = 'https://google.nl/maps/place/'+loc+'/&amp;'\n",
    "            webbrowser.get().open(url)\n",
    "            print('Here is the location of '+loc)\n",
    "            engine_talk('Here is the location of '+loc)\n",
    "        elif 'bootcamps' in command :\n",
    "            search = 'http://tathastu.twowaits.in/index.html#courses'\n",
    "            engine_talk('opening boot camps')\n",
    "            webbrowser.open(search)\n",
    "        elif 'boot camps' in command :\n",
    "            search = 'http://tathastu.twowaits.in/index.html#courses'\n",
    "            engine_talk('opening boot camps')\n",
    "            webbrowser.open(search)\n",
    "        elif 'python bootcamp' in command :\n",
    "            search = 'http://tathastu.twowaits.in/kickstart_python.html'\n",
    "            engine_talk('showing pythonboot camp')\n",
    "            webbrowser.open(search)\n",
    "        elif 'data science bootcamp' in command :\n",
    "            search = 'http://tathastu.twowaits.in/kickstart_data_science.html'\n",
    "            engine_talk('showing data science and ml bootcamp')\n",
    "            webbrowser.open(search)\n",
    "        elif 'open google' in command :\n",
    "            print('opening google ...')\n",
    "            engine_talk('opening google..')\n",
    "            webbrowser.open_new('https://www.google.co.in/')\n",
    "        elif 'gmail' in command :\n",
    "            print('opening gmail ...')\n",
    "            engine_talk('opening gmail..')\n",
    "            webbrowser.open_new('https://mail.google.com/')\n",
    "        elif 'open youtube' in command :\n",
    "            print('opening you tube ...')\n",
    "            engine_talk('opening you tube..')\n",
    "            webbrowser.open_new('https://www.youtube.com/')\n",
    "        elif 'open instagram' in command :\n",
    "            print('opening instagram ...')\n",
    "            engine_talk('opening insta gram...')\n",
    "            webbrowser.open_new('https://www.instagram.com/')\n",
    "        elif 'open stack overflow' in command :\n",
    "            print('opening stackoverflow ...')\n",
    "            engine_talk('opening stack overflow...')\n",
    "            webbrowser.open_new('https://stackoverflow.com/')\n",
    "        elif 'open github' in command :\n",
    "            print('opening git hub ...')\n",
    "            engine_talk('opening git hub...')\n",
    "            webbrowser.open_new('https://github.com/')\n",
    "        elif 'bye' in command:\n",
    "            print('good bye, have a nice day !!')\n",
    "            engine_talk('good bye, have a nice day !!')\n",
    "            sys.exit()\n",
    "        elif 'thank you' in command :\n",
    "            print(\"your welcome\")\n",
    "            engine_talk('your welcome')\n",
    "        elif 'stop' in command:\n",
    "            print('good bye, have a nice day !!')\n",
    "            engine_talk('good bye, have a nice day !!')\n",
    "            sys.exit()\n",
    "        elif 'tata' in command:\n",
    "            print('good bye, have a nice day !!')\n",
    "            engine_talk('good bye, have a nice day !!')\n",
    "            sys.exit()\n",
    "        else:\n",
    "            print(' Here is what i found on the internet..')\n",
    "            engine_talk('Here is what i found on the internet..')\n",
    "            search = 'https://www.google.com/search?q='+command\n",
    "            webbrowser.open(search)\n",
    "    except Exception as ex:\n",
    "        print(ex)\n",
    "print('Clearing background noise...Please wait')\n",
    "engine_talk('Clearing background noise...Please wait')\n",
    "print('\\n')\n",
    "print(\"hello, i am mini alexa how can i help you ??\")\n",
    "engine_talk (\"hello i am mini alexa how can i help you \")\n",
    "\n",
    "\n",
    "while True:\n",
    "    run_alexa()"
   ]
  },
  {
   "cell_type": "code",
   "execution_count": null,
   "id": "ce95dff0",
   "metadata": {},
   "outputs": [],
   "source": []
  },
  {
   "cell_type": "code",
   "execution_count": null,
   "id": "9324f468",
   "metadata": {},
   "outputs": [],
   "source": []
  },
  {
   "cell_type": "code",
   "execution_count": null,
   "id": "7672691a",
   "metadata": {},
   "outputs": [],
   "source": []
  },
  {
   "cell_type": "code",
   "execution_count": null,
   "id": "9e2331bc",
   "metadata": {},
   "outputs": [],
   "source": []
  },
  {
   "cell_type": "code",
   "execution_count": null,
   "id": "e50dc1d7",
   "metadata": {},
   "outputs": [],
   "source": []
  },
  {
   "cell_type": "code",
   "execution_count": null,
   "id": "0fee507c",
   "metadata": {},
   "outputs": [],
   "source": []
  },
  {
   "cell_type": "code",
   "execution_count": null,
   "id": "79942a7f",
   "metadata": {},
   "outputs": [],
   "source": []
  },
  {
   "cell_type": "code",
   "execution_count": null,
   "id": "2c6f6c4b",
   "metadata": {},
   "outputs": [],
   "source": []
  }
 ],
 "metadata": {
  "kernelspec": {
   "display_name": "Python 3 (ipykernel)",
   "language": "python",
   "name": "python3"
  },
  "language_info": {
   "codemirror_mode": {
    "name": "ipython",
    "version": 3
   },
   "file_extension": ".py",
   "mimetype": "text/x-python",
   "name": "python",
   "nbconvert_exporter": "python",
   "pygments_lexer": "ipython3",
   "version": "3.9.7"
  }
 },
 "nbformat": 4,
 "nbformat_minor": 5
}
